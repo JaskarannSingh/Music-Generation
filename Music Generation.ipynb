{
 "cells": [
  {
   "cell_type": "code",
   "execution_count": 1,
   "metadata": {},
   "outputs": [],
   "source": [
    "import tensorflow as tf\n",
    "import mitdeeplearning as mdl\n",
    "\n",
    "import numpy as np\n",
    "import pandas as pd\n",
    "import os\n",
    "import time\n",
    "import functools\n",
    "from IPython import display as ipythondisplay\n",
    "from tqdm import tqdm"
   ]
  },
  {
   "cell_type": "code",
   "execution_count": 2,
   "metadata": {},
   "outputs": [
    {
     "name": "stdout",
     "output_type": "stream",
     "text": [
      "Found 816 songs in text\n"
     ]
    }
   ],
   "source": [
    "songs = mdl.lab1.load_training_data()"
   ]
  },
  {
   "cell_type": "code",
   "execution_count": 3,
   "metadata": {},
   "outputs": [
    {
     "name": "stdout",
     "output_type": "stream",
     "text": [
      "Example Song\n",
      "X:2\n",
      "T:An Buachaill Dreoite\n",
      "Z: id:dc-hornpipe-2\n",
      "M:C|\n",
      "L:1/8\n",
      "K:G Major\n",
      "GF|DGGB d2GB|d2GF Gc (3AGF|DGGB d2GB|dBcA F2GF|!\n",
      "DGGB d2GF|DGGF G2Ge|fgaf gbag|fdcA G2:|!\n",
      "GA|B2BG c2cA|d2GF G2GA|B2BG c2cA|d2DE F2GA|!\n",
      "B2BG c2cA|d^cde f2 (3def|g2gf gbag|fdcA G2:|!\n"
     ]
    }
   ],
   "source": [
    "example_song = songs[0]\n",
    "\n",
    "print(\"Example Song\")\n",
    "\n",
    "print(example_song)\n"
   ]
  },
  {
   "cell_type": "code",
   "execution_count": 4,
   "metadata": {},
   "outputs": [],
   "source": [
    "mdl.lab1.play_song(example_song)"
   ]
  },
  {
   "cell_type": "code",
   "execution_count": 5,
   "metadata": {},
   "outputs": [
    {
     "name": "stdout",
     "output_type": "stream",
     "text": [
      "There are  83  unique characters in the dataset\n"
     ]
    }
   ],
   "source": [
    "#Join the list of song strings into a single string containing all songs\n",
    "songs_joined =\"/n/n\".join(songs)\n",
    "\n",
    "#Find all unique characters in the joined string\n",
    "vocab = sorted(set(songs_joined))\n",
    "print(\"There are \",len(vocab),\" unique characters in the dataset\")"
   ]
  },
  {
   "cell_type": "code",
   "execution_count": 6,
   "metadata": {},
   "outputs": [],
   "source": [
    "#Create a numerical representation of the text based dataset\n",
    "\n",
    "#Create a mapping from character to unique index\n",
    "char2idx={u:i for i,u in enumerate(vocab)}\n",
    "\n",
    "#Create a mapping from index to characters\n",
    "idx2char=np.array(vocab)"
   ]
  },
  {
   "cell_type": "code",
   "execution_count": 7,
   "metadata": {},
   "outputs": [
    {
     "name": "stdout",
     "output_type": "stream",
     "text": [
      "{\n",
      "  '\\n':   0,\n",
      "  ' ' :   1,\n",
      "  '!' :   2,\n",
      "  '\"' :   3,\n",
      "  '#' :   4,\n",
      "  \"'\" :   5,\n",
      "  '(' :   6,\n",
      "  ')' :   7,\n",
      "  ',' :   8,\n",
      "  '-' :   9,\n",
      "  '.' :  10,\n",
      "  '/' :  11,\n",
      "  '0' :  12,\n",
      "  '1' :  13,\n",
      "  '2' :  14,\n",
      "  '3' :  15,\n",
      "  '4' :  16,\n",
      "  '5' :  17,\n",
      "  '6' :  18,\n",
      "  '7' :  19,\n",
      "  ...\n",
      "}\n"
     ]
    }
   ],
   "source": [
    "print('{')\n",
    "for char,_ in zip(char2idx, range(20)):\n",
    "    print('  {:4s}: {:3d},'.format(repr(char), char2idx[char]))\n",
    "print('  ...\\n}')"
   ]
  },
  {
   "cell_type": "code",
   "execution_count": 8,
   "metadata": {},
   "outputs": [
    {
     "name": "stdout",
     "output_type": "stream",
     "text": [
      "[49 22 14 ... 22 82  2]\n"
     ]
    }
   ],
   "source": [
    "#Vectorize the songs to string\n",
    "def vectorize_string(string):\n",
    "    vectorized_output = np.array([char2idx[char] for char in string])\n",
    "    return vectorized_output\n",
    "vectorized_songs = vectorize_string(songs_joined)\n",
    "print(vectorized_songs)\n",
    "    "
   ]
  },
  {
   "cell_type": "code",
   "execution_count": 9,
   "metadata": {},
   "outputs": [
    {
     "name": "stdout",
     "output_type": "stream",
     "text": [
      "[PASS] test_batch_func_types\n",
      "[PASS] test_batch_func_shapes\n",
      "[PASS] test_batch_func_next_step\n",
      "======\n",
      "[PASS] passed all tests!\n"
     ]
    }
   ],
   "source": [
    "#Batch Definition to Create Training Examples\n",
    "\n",
    "def get_batch(vectorized_songs,seq_length,batch_size):\n",
    "    n=vectorized_songs.shape[0]-1\n",
    "    #Randomly choose the starting indices for the examples in the training batch\n",
    "    idx=np.random.choice(n-seq_length,batch_size)\n",
    "    input_batch=[vectorized_songs[i: i+seq_length] for i in idx]\n",
    "    output_batch=[vectorized_songs[i+1: i+seq_length+1] for i in idx]\n",
    "    x_batch=np.reshape(input_batch,[batch_size,seq_length])\n",
    "    y_batch=np.reshape(output_batch,[batch_size,seq_length])\n",
    "    return x_batch,y_batch\n",
    "test_args = (vectorized_songs,10,2)\n",
    "if not mdl.lab1.test_batch_func_types(get_batch, test_args) or \\\n",
    "   not mdl.lab1.test_batch_func_shapes(get_batch, test_args) or \\\n",
    "   not mdl.lab1.test_batch_func_next_step(get_batch, test_args): \n",
    "    print(\"======\\n[FAIL] could not pass tests\")\n",
    "else: \n",
    "    print(\"======\\n[PASS] passed all tests!\")\n",
    "\n",
    "\n"
   ]
  },
  {
   "cell_type": "code",
   "execution_count": 10,
   "metadata": {},
   "outputs": [
    {
     "name": "stdout",
     "output_type": "stream",
     "text": [
      "Step   0\n",
      "  input: 26 ('A')\n",
      "  expected output: 31 ('F')\n",
      "Step   1\n",
      "  input: 31 ('F')\n",
      "  expected output: 31 ('F')\n",
      "Step   2\n",
      "  input: 31 ('F')\n",
      "  expected output: 14 ('2')\n",
      "Step   3\n",
      "  input: 14 ('2')\n",
      "  expected output: 1 (' ')\n",
      "Step   4\n",
      "  input: 1 (' ')\n",
      "  expected output: 29 ('D')\n"
     ]
    }
   ],
   "source": [
    "x_batch,y_batch = get_batch(vectorized_songs,seq_length=5,batch_size=1)\n",
    "for i,(input_idx, target_idx) in enumerate(zip(np.squeeze(x_batch),np.squeeze(y_batch))):\n",
    "    print(\"Step {:3d}\".format(i))\n",
    "    print(\"  input: {} ({:s})\".format(input_idx, repr(idx2char[input_idx])))\n",
    "    print(\"  expected output: {} ({:s})\".format(target_idx, repr(idx2char[target_idx])))"
   ]
  },
  {
   "cell_type": "code",
   "execution_count": 11,
   "metadata": {},
   "outputs": [],
   "source": [
    "##DEFINING THE RNN MODEL##\n",
    "def LSTM(rnn_units):\n",
    "    return tf.keras.layers.LSTM(\n",
    "    rnn_units,\n",
    "    return_sequences=True,\n",
    "    recurrent_initializer='glorot_uniform',\n",
    "    recurrent_activation='sigmoid',\n",
    "    stateful=True\n",
    "    )"
   ]
  },
  {
   "cell_type": "code",
   "execution_count": 12,
   "metadata": {},
   "outputs": [],
   "source": [
    "def build_model(vocab_size,embedding_dim,rnn_units,batch_size):\n",
    "    model=tf.keras.Sequential([\n",
    "        tf.keras.layers.Embedding(vocab_size,embedding_dim,batch_input_shape=[batch_size,None]),\n",
    "        LSTM(rnn_units),\n",
    "        tf.keras.layers.Dense(vocab_size)\n",
    "    ])\n",
    "    \n",
    "    return model\n",
    "\n",
    "model = build_model(len(vocab),embedding_dim=256,rnn_units=1024,batch_size=32)"
   ]
  },
  {
   "cell_type": "code",
   "execution_count": 13,
   "metadata": {},
   "outputs": [
    {
     "name": "stdout",
     "output_type": "stream",
     "text": [
      "Model: \"sequential\"\n",
      "_________________________________________________________________\n",
      "Layer (type)                 Output Shape              Param #   \n",
      "=================================================================\n",
      "embedding (Embedding)        (32, None, 256)           21248     \n",
      "_________________________________________________________________\n",
      "lstm (LSTM)                  (32, None, 1024)          5246976   \n",
      "_________________________________________________________________\n",
      "dense (Dense)                (32, None, 83)            85075     \n",
      "=================================================================\n",
      "Total params: 5,353,299\n",
      "Trainable params: 5,353,299\n",
      "Non-trainable params: 0\n",
      "_________________________________________________________________\n"
     ]
    }
   ],
   "source": [
    "model.summary()"
   ]
  },
  {
   "cell_type": "code",
   "execution_count": 14,
   "metadata": {},
   "outputs": [],
   "source": [
    "#Getting training examples and targets\n",
    "x,y=get_batch(vectorized_songs,seq_length=100,batch_size=32)\n",
    "\n",
    "#Making prediction\n",
    "pred=model(x)"
   ]
  },
  {
   "cell_type": "code",
   "execution_count": 15,
   "metadata": {},
   "outputs": [],
   "source": [
    "#A function to compute loss\n",
    "def compute_loss(labels,logits):\n",
    "    loss=tf.keras.losses.sparse_categorical_crossentropy(labels,logits,from_logits=True)\n",
    "    return loss\n",
    "example_batch_loss=compute_loss(y,pred)"
   ]
  },
  {
   "cell_type": "code",
   "execution_count": 16,
   "metadata": {},
   "outputs": [],
   "source": [
    "#Hyper Parameter Setting and Optimization\n",
    "#optimization Parameters\n",
    "num_training_iterations=2000\n",
    "batch_size=4\n",
    "seq_length=100\n",
    "learning_rate=5e-3\n",
    "\n",
    "#Model Parameters\n",
    "vocab_size=len(vocab)\n",
    "embedding_dim=256\n",
    "rnn_units=1024\n",
    "\n",
    "#Checkpoint Location\n",
    "checkpoint_dir = './training_checkpoints'\n",
    "checkpoint_prefix = os.path.join(checkpoint_dir, \"my_ckpt\")"
   ]
  },
  {
   "cell_type": "code",
   "execution_count": 17,
   "metadata": {},
   "outputs": [],
   "source": [
    "model = build_model(vocab_size, embedding_dim, rnn_units, batch_size)\n",
    "# Instantiating an optimizer with its learning rate\n",
    "optimizer = tf.keras.optimizers.Adam(learning_rate)\n",
    "\n",
    "@tf.function\n",
    "def train_step(x,y):\n",
    "    with tf.GradientTape() as tape:\n",
    "    # Feeding the current input into the model and generating predictions\n",
    "        y_hat = model(x)\n",
    "        loss = compute_loss(y, y_hat)\n",
    "  # Computing the gradients, we want the gradient of the loss with respect to all\n",
    "  # of the model parameters so will use 'model.trainable_variables' to get a list \n",
    "  # of all model parameters\n",
    "    grads = tape.gradient(loss, model.trainable_variables)\n",
    "  # Appplying the gradients to the optimizer so it can update the model accordigly\n",
    "    optimizer.apply_gradients(zip(grads, model.trainable_variables))\n",
    "    return loss\n"
   ]
  },
  {
   "cell_type": "code",
   "execution_count": 18,
   "metadata": {},
   "outputs": [
    {
     "data": {
      "image/png": "[encoded data removed]",
      "text/plain": [
       "<Figure size 432x288 with 1 Axes>"
      ]
     },
     "metadata": {},
     "output_type": "display_data"
    },
    {
     "name": "stderr",
     "output_type": "stream",
     "text": [
      "100%|████████████████████████████████████████████████████████████████████████████| 2000/2000 [1:20:47<00:00,  2.42s/it]\n"
     ]
    },
    {
     "name": "stdout",
     "output_type": "stream",
     "text": [
      "Model: \"sequential_2\"\n",
      "_________________________________________________________________\n",
      "Layer (type)                 Output Shape              Param #   \n",
      "=================================================================\n",
      "embedding_2 (Embedding)      (1, None, 256)            21248     \n",
      "_________________________________________________________________\n",
      "lstm_2 (LSTM)                (1, None, 1024)           5246976   \n",
      "_________________________________________________________________\n",
      "dense_2 (Dense)              (1, None, 83)             85075     \n",
      "=================================================================\n",
      "Total params: 5,353,299\n",
      "Trainable params: 5,353,299\n",
      "Non-trainable params: 0\n",
      "_________________________________________________________________\n"
     ]
    },
    {
     "data": {
      "image/png": "[encoded data removed]",
      "text/plain": [
       "<Figure size 432x288 with 1 Axes>"
      ]
     },
     "metadata": {
      "needs_background": "light"
     },
     "output_type": "display_data"
    }
   ],
   "source": [
    "#Beginning of Training\n",
    "\n",
    "history=[]\n",
    "plotter=mdl.util.PeriodicPlotter(sec=2,xlabel='Iterations',ylabel='Loss')\n",
    "if hasattr(tqdm,'_instances'): tqdm._instances.clear()\n",
    "    \n",
    "for iter in tqdm(range(num_training_iterations)):\n",
    "    x_batch, y_batch = get_batch(vectorized_songs,seq_length,batch_size)\n",
    "    loss=train_step(x_batch,y_batch)\n",
    "    \n",
    "    #Update the progress bar\n",
    "    history.append(loss.numpy().mean())\n",
    "    plotter.plot(history)\n",
    "    \n",
    "    #Update the model with changed weights\n",
    "    if iter%100==0:\n",
    "        model.save_weights(checkpoint_prefix)\n",
    "        \n",
    "#Save the trained model and the weights\n",
    "model.save_weights(checkpoint_prefix)\n",
    "\n",
    "#Generating Music Using the RNN Model\n",
    "#Rebuild the model using batch_size=1\n",
    "model=build_model(vocab_size,embedding_dim,rnn_units,batch_size=1)\n",
    "\n",
    "#Restore the model weights for the last checkpoint after training\n",
    "model.load_weights(tf.train.latest_checkpoint(checkpoint_dir))\n",
    "model.build(tf.TensorShape([1,None]))\n",
    "\n",
    "model.summary()"
   ]
  },
  {
   "cell_type": "code",
   "execution_count": 24,
   "metadata": {},
   "outputs": [
    {
     "name": "stderr",
     "output_type": "stream",
     "text": [
      "100%|██████████████████████████████████████████████████████████████████████████████| 1000/1000 [00:14<00:00, 68.80it/s]"
     ]
    },
    {
     "name": "stdout",
     "output_type": "stream",
     "text": [
      "Found 0 songs in text\n"
     ]
    },
    {
     "name": "stderr",
     "output_type": "stream",
     "text": [
      "\n"
     ]
    }
   ],
   "source": [
    "## Prediction of a generated song\n",
    "def generate_text(model,start_string,generation_length=1000):\n",
    "    #Converting start string to numbers\n",
    "    input_eval = [char2idx[s] for s in start_string]\n",
    "    #Adding a batch dimension\n",
    "    input_eval = tf.expand_dims(input_eval,0)\n",
    "    text_generated=[]\n",
    "    model.reset_states()\n",
    "    tqdm._instances.clear()\n",
    "    \n",
    "    for i in tqdm(range(generation_length)):\n",
    "        predictions = model(input_eval)\n",
    "        #Remove Batch dimension\n",
    "        predictions = tf.squeeze(predictions,0)\n",
    "        \n",
    "        #Use a multinomial distribution to sample\n",
    "        predicted_id = tf.random.categorical(predictions,num_samples=1)[-1,0].numpy()\n",
    "        #Passing the prediction along with the previous hidden state as the inputs to the model\n",
    "        input_eval = tf.expand_dims([predicted_id],0)\n",
    "        #Adding the predicted character to the generated text\n",
    "        text_generated.append(idx2char[predicted_id])\n",
    "    return (start_string + ''.join(text_generated))\n",
    "generated_text=generate_text(model,start_string=\"X\",generation_length=1000)\n",
    "generated_songs = mdl.lab1.extract_song_snippet(generated_text)\n",
    "\n",
    "for i, song in enumerate(generated_songs):\n",
    "    waveform = mdl.lab1.play_song(song)\n",
    "    if waveform:\n",
    "        print(\"Generated song\", i)\n",
    "        ipythondisplay.display(waveform)\n"
   ]
  },
  {
   "cell_type": "code",
   "execution_count": 23,
   "metadata": {},
   "outputs": [
    {
     "name": "stdout",
     "output_type": "stream",
     "text": [
      "Found 0 songs in text\n"
     ]
    }
   ],
   "source": []
  },
  {
   "cell_type": "code",
   "execution_count": null,
   "metadata": {},
   "outputs": [],
   "source": []
  }
 ],
 "metadata": {
  "kernelspec": {
   "display_name": "Python 3",
   "language": "python",
   "name": "python3"
  },
  "language_info": {
   "codemirror_mode": {
    "name": "ipython",
    "version": 3
   },
   "file_extension": ".py",
   "mimetype": "text/x-python",
   "name": "python",
   "nbconvert_exporter": "python",
   "pygments_lexer": "ipython3",
   "version": "3.7.7"
  }
 },
 "nbformat": 4,
 "nbformat_minor": 4
}
